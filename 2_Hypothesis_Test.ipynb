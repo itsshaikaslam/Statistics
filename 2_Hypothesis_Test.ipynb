{
 "cells": [
  {
   "cell_type": "markdown",
   "metadata": {},
   "source": [
    "# STATISTICS"
   ]
  },
  {
   "cell_type": "markdown",
   "metadata": {},
   "source": [
    "# Hypothesis testing"
   ]
  },
  {
   "cell_type": "markdown",
   "metadata": {},
   "source": [
    "libraries:\n",
    "- pandas\n",
    "- numpy\n",
    "- scipy\n",
    "- statsmodels"
   ]
  },
  {
   "cell_type": "markdown",
   "metadata": {},
   "source": [
    "## 1. Parametric Criteria"
   ]
  },
  {
   "cell_type": "markdown",
   "metadata": {},
   "source": [
    "### 1.1. Binominal Test"
   ]
  },
  {
   "cell_type": "markdown",
   "metadata": {},
   "source": [
    "**Stress of restaurant employees**\n",
    "\n",
    "According to the survey, 75% of restaurant employees say they experience significant stress at work that negatively affects their personal lives. A large restaurant chain polls 100 of its employees to find out if the stress level of workers in their restaurants is different from the average. 67 out of 100 workers reported high levels of stress.\n",
    "\n",
    "_H0: the stress level of restaurant chain workers is the same as in average_\n",
    "\n",
    "_H1: the stress level of restaurant chain workers is not the same as in average_"
   ]
  },
  {
   "cell_type": "code",
   "execution_count": 1,
   "metadata": {},
   "outputs": [],
   "source": [
    "import numpy as np\n",
    "from scipy import stats\n",
    "from statsmodels.stats.proportion import proportion_confint"
   ]
  },
  {
   "cell_type": "code",
   "execution_count": 2,
   "metadata": {},
   "outputs": [
    {
     "data": {
      "text/plain": [
       "0.0822"
      ]
     },
     "execution_count": 2,
     "metadata": {},
     "output_type": "execute_result"
    }
   ],
   "source": [
    "# Level of significance achieved:\n",
    "\n",
    "p_value = stats.binom_test(67, 100, 0.75, alternative = 'two-sided') \n",
    "round(p_value, 4)"
   ]
  },
  {
   "cell_type": "markdown",
   "metadata": {},
   "source": [
    "As p-value > 0.05, we can't reject H0 in 95% significant ."
   ]
  },
  {
   "cell_type": "markdown",
   "metadata": {},
   "source": [
    "### 1.2. Chisquare "
   ]
  },
  {
   "cell_type": "markdown",
   "metadata": {},
   "source": [
    "**Spatial distribution of pines**\n",
    "\n",
    "The Wage Tract is a nature reserve in Tom County, Georgia, USA, in which trees have not been affected by human activity since the first settlers. For the reserve area 200x200 m in size, there is information about the coordinates of the pines ('sn' is the coordinate in the north-south direction, 'we', in the west-east direction, both from 0 to 200)."
   ]
  },
  {
   "cell_type": "code",
   "execution_count": 3,
   "metadata": {},
   "outputs": [
    {
     "data": {
      "text/html": [
       "<div>\n",
       "<style scoped>\n",
       "    .dataframe tbody tr th:only-of-type {\n",
       "        vertical-align: middle;\n",
       "    }\n",
       "\n",
       "    .dataframe tbody tr th {\n",
       "        vertical-align: top;\n",
       "    }\n",
       "\n",
       "    .dataframe thead th {\n",
       "        text-align: right;\n",
       "    }\n",
       "</style>\n",
       "<table border=\"1\" class=\"dataframe\">\n",
       "  <thead>\n",
       "    <tr style=\"text-align: right;\">\n",
       "      <th></th>\n",
       "      <th>sn</th>\n",
       "      <th>we</th>\n",
       "    </tr>\n",
       "  </thead>\n",
       "  <tbody>\n",
       "    <tr>\n",
       "      <td>0</td>\n",
       "      <td>200.0</td>\n",
       "      <td>8.8</td>\n",
       "    </tr>\n",
       "    <tr>\n",
       "      <td>1</td>\n",
       "      <td>199.3</td>\n",
       "      <td>10.0</td>\n",
       "    </tr>\n",
       "    <tr>\n",
       "      <td>2</td>\n",
       "      <td>193.6</td>\n",
       "      <td>22.4</td>\n",
       "    </tr>\n",
       "    <tr>\n",
       "      <td>3</td>\n",
       "      <td>167.7</td>\n",
       "      <td>35.6</td>\n",
       "    </tr>\n",
       "    <tr>\n",
       "      <td>4</td>\n",
       "      <td>183.9</td>\n",
       "      <td>45.4</td>\n",
       "    </tr>\n",
       "  </tbody>\n",
       "</table>\n",
       "</div>"
      ],
      "text/plain": [
       "      sn    we\n",
       "0  200.0   8.8\n",
       "1  199.3  10.0\n",
       "2  193.6  22.4\n",
       "3  167.7  35.6\n",
       "4  183.9  45.4"
      ]
     },
     "execution_count": 3,
     "metadata": {},
     "output_type": "execute_result"
    }
   ],
   "source": [
    "import pandas as pd\n",
    "data = pd.read_csv('pines.txt', delimiter=\"\\t\")\n",
    "data.head()"
   ]
  },
  {
   "cell_type": "markdown",
   "metadata": {},
   "source": [
    "We check whether the spatial distribution of pines can be considered uniform, or whether they grow in clusters. Let's divide the area into 5x5 identical squares of 40x40 m in size and count the number of pines in each square.\n",
    "\n",
    "_H0: trees grow evenly_\n",
    "\n",
    "_H1: trees grow in clusters_"
   ]
  },
  {
   "cell_type": "code",
   "execution_count": 4,
   "metadata": {},
   "outputs": [
    {
     "name": "stdout",
     "output_type": "stream",
     "text": [
      "Populating the interactive namespace from numpy and matplotlib\n"
     ]
    },
    {
     "data": {
      "text/plain": [
       "Text(0, 0.5, 'WE')"
      ]
     },
     "execution_count": 4,
     "metadata": {},
     "output_type": "execute_result"
    },
    {
     "data": {
      "image/png": "[encoded data removed]",
      "text/plain": [
       "<Figure size 432x288 with 1 Axes>"
      ]
     },
     "metadata": {
      "needs_background": "light"
     },
     "output_type": "display_data"
    }
   ],
   "source": [
    "x = np.linspace(0, 200, 6)\n",
    "y = np.linspace(0, 200, 6)\n",
    "xx, yy = np.meshgrid(x, y)\n",
    "\n",
    "%pylab inline\n",
    "pylab.grid(True)\n",
    "pylab.scatter(data.sn, data.we, color='b', alpha = 0.7)\n",
    "pylab.plot(xx, yy, 'r-', alpha = 0.7)\n",
    "pylab.plot(yy, xx, 'r-', alpha = 0.7)\n",
    "xlabel('SN')\n",
    "ylabel('WE')"
   ]
  },
  {
   "cell_type": "code",
   "execution_count": 5,
   "metadata": {},
   "outputs": [
    {
     "data": {
      "text/plain": [
       "array([[18., 26., 29., 25., 20.],\n",
       "       [14., 12., 22., 34., 25.],\n",
       "       [12., 24., 15., 50., 37.],\n",
       "       [ 8., 19., 31., 50.,  7.],\n",
       "       [ 7.,  8., 37., 27., 27.]])"
      ]
     },
     "execution_count": 5,
     "metadata": {},
     "output_type": "execute_result"
    }
   ],
   "source": [
    "ret = stats.binned_statistic_2d(data.sn, data.we, values = None, statistic = 'count', bins=5)\n",
    "ret.statistic"
   ]
  },
  {
   "cell_type": "code",
   "execution_count": 6,
   "metadata": {},
   "outputs": [
    {
     "data": {
      "text/plain": [
       "array([18., 26., 29., 25., 20., 14., 12., 22., 34., 25., 12., 24., 15.,\n",
       "       50., 37.,  8., 19., 31., 50.,  7.,  7.,  8., 37., 27., 27.])"
      ]
     },
     "execution_count": 6,
     "metadata": {},
     "output_type": "execute_result"
    }
   ],
   "source": [
    "freq = np.reshape(ret.statistic, 25)\n",
    "freq"
   ]
  },
  {
   "cell_type": "code",
   "execution_count": 7,
   "metadata": {
    "scrolled": false
   },
   "outputs": [
    {
     "data": {
      "text/plain": [
       "<matplotlib.legend.Legend at 0x1a2384b610>"
      ]
     },
     "execution_count": 7,
     "metadata": {},
     "output_type": "execute_result"
    },
    {
     "data": {
      "image/png": "[encoded data removed]",
      "text/plain": [
       "<Figure size 432x288 with 1 Axes>"
      ]
     },
     "metadata": {
      "needs_background": "light"
     },
     "output_type": "display_data"
    }
   ],
   "source": [
    "pylab.bar(range(25), freq, color = 'b', label = 'trees in 40x40 m2')\n",
    "pylab.legend()"
   ]
  },
  {
   "cell_type": "markdown",
   "metadata": {},
   "source": [
    "Average expected number of pines in each square:"
   ]
  },
  {
   "cell_type": "code",
   "execution_count": 8,
   "metadata": {},
   "outputs": [
    {
     "data": {
      "text/plain": [
       "23.36"
      ]
     },
     "execution_count": 8,
     "metadata": {},
     "output_type": "execute_result"
    }
   ],
   "source": [
    "L = freq.mean()\n",
    "L"
   ]
  },
  {
   "cell_type": "code",
   "execution_count": 9,
   "metadata": {
    "scrolled": true
   },
   "outputs": [
    {
     "data": {
      "text/plain": [
       "array([23.36, 23.36, 23.36, 23.36, 23.36, 23.36, 23.36, 23.36, 23.36,\n",
       "       23.36, 23.36, 23.36, 23.36, 23.36, 23.36, 23.36, 23.36, 23.36,\n",
       "       23.36, 23.36, 23.36, 23.36, 23.36, 23.36, 23.36])"
      ]
     },
     "execution_count": 9,
     "metadata": {},
     "output_type": "execute_result"
    }
   ],
   "source": [
    "exp_freq = np.array([L]*25)\n",
    "exp_freq"
   ]
  },
  {
   "cell_type": "code",
   "execution_count": 10,
   "metadata": {},
   "outputs": [
    {
     "data": {
      "text/plain": [
       "<matplotlib.legend.Legend at 0x1a239f9d50>"
      ]
     },
     "execution_count": 10,
     "metadata": {},
     "output_type": "execute_result"
    },
    {
     "data": {
      "image/png": "[encoded data removed]",
      "text/plain": [
       "<Figure size 432x288 with 1 Axes>"
      ]
     },
     "metadata": {
      "needs_background": "light"
     },
     "output_type": "display_data"
    }
   ],
   "source": [
    "pylab.bar(range(25), exp_freq, color = 'g', label = 'exp trees in 40x40 m2')\n",
    "pylab.legend()"
   ]
  },
  {
   "cell_type": "code",
   "execution_count": 11,
   "metadata": {
    "scrolled": true
   },
   "outputs": [
    {
     "data": {
      "text/plain": [
       "Power_divergenceResult(statistic=150.58904109589042, pvalue=9.87806178820889e-21)"
      ]
     },
     "execution_count": 11,
     "metadata": {},
     "output_type": "execute_result"
    }
   ],
   "source": [
    "stats.chisquare(freq, exp_freq, ddof = 1)"
   ]
  },
  {
   "cell_type": "markdown",
   "metadata": {},
   "source": [
    "As a p-value < 0.05, we reject H0."
   ]
  },
  {
   "cell_type": "markdown",
   "metadata": {},
   "source": [
    "### 1.3. Z-statistic"
   ]
  },
  {
   "cell_type": "markdown",
   "metadata": {},
   "source": [
    "**1) Blood calcium level**\n",
    "\n",
    "The blood calcium level of healthy young women is on average 9.5 milligrams per deciliter and has a characteristic standard deviation of 0.4 mg/ dl. In a Guatemalan rural hospital, calcium levels were measured for 160 healthy pregnant women at the first call for pregnancy; the average value was 9.57 mg / dl. \n",
    "\n",
    "We will check if the average calcium level in this population is different from 9.5.\n",
    "\n",
    "_H0: calcium level in measured population is the same as on average_\n",
    "\n",
    "_H1: calcium level in measured population is different from average_"
   ]
  },
  {
   "cell_type": "markdown",
   "metadata": {},
   "source": [
    "According to Central Limit Theorem:\n",
    "\n",
    "standard deviation of the mean in population:\n",
    "$$ SE = st/√n $$\n",
    "\n",
    "If H0 complies, std of population = std of sample from it, then z-statistics:\n",
    "\n",
    "$$ z = (Xmean  - mu)/ SE $$"
   ]
  },
  {
   "cell_type": "code",
   "execution_count": 12,
   "metadata": {},
   "outputs": [],
   "source": [
    "# for population:\n",
    "std = 0.4\n",
    "mu = 9.5\n",
    "\n",
    "# for sample\n",
    "X_ = 9.57\n",
    "n = 160"
   ]
  },
  {
   "cell_type": "code",
   "execution_count": 13,
   "metadata": {},
   "outputs": [
    {
     "data": {
      "text/plain": [
       "2.213594362117875"
      ]
     },
     "execution_count": 13,
     "metadata": {},
     "output_type": "execute_result"
    }
   ],
   "source": [
    "SE = std/n**0.5\n",
    "z = (X_ - mu)/SE\n",
    "z"
   ]
  },
  {
   "cell_type": "code",
   "execution_count": 14,
   "metadata": {
    "scrolled": true
   },
   "outputs": [
    {
     "data": {
      "text/plain": [
       "0.0269"
      ]
     },
     "execution_count": 14,
     "metadata": {},
     "output_type": "execute_result"
    }
   ],
   "source": [
    "from scipy import stats\n",
    "\n",
    "# 2 side Alternative\n",
    "p = 2*(1-stats.norm.cdf(abs(z)))\n",
    "round(p, 4)"
   ]
  },
  {
   "cell_type": "markdown",
   "metadata": {},
   "source": [
    "As a p-value < 0.05, we reject H0."
   ]
  },
  {
   "cell_type": "markdown",
   "metadata": {},
   "source": [
    "95% confident interval for mean in population:\n",
    "$$mu ± 2SE$$"
   ]
  },
  {
   "cell_type": "code",
   "execution_count": 15,
   "metadata": {},
   "outputs": [
    {
     "name": "stdout",
     "output_type": "stream",
     "text": [
      "95% confident interval for mean in population:  9.436754446796632 9.563245553203368\n"
     ]
    }
   ],
   "source": [
    "print('95% confident interval for mean in population: ', mu-2*SE, mu+2*SE) "
   ]
  },
  {
   "cell_type": "markdown",
   "metadata": {},
   "source": [
    "**2) Contagious yawning**\n",
    "\n",
    "In one of the episodes of the Destroyers of Legends program, it was checked whether yawning is really contagious. The experiment involved 50 subjects who were interviewed for the program. Each of them spoke with a recruiter; at the end of 34 out of 50 conversations, the recruiter yawned. Then the subjects were asked to wait for the recruiter's decision in the next empty room.\n",
    "\n",
    "While waiting, 10 out of 34 subjects in the experimental group and 4 out of 16 subjects in the control group began to yawn. Thus, the difference in the proportion of yawning people in these two groups was approximately 4.4%. The presenters concluded that the myth of the infectiousness of yawning is confirmed.\n",
    "\n",
    "Can we say that the difference of yawning in the control and experimental groups is significant? Calculate the level of significance achieved at alternative contagiousness of yawning\n",
    "\n",
    "_H0: There is no significant difference in the control and experimental groups_\n",
    "\n",
    "_H1: The yawning is contagious_\n"
   ]
  },
  {
   "cell_type": "markdown",
   "metadata": {},
   "source": [
    "Z-criteria for 2 independent samles:\n",
    "\n",
    "$$Z({X_1, X_2}) =  \\frac{\\hat{p}_1 - \\hat{p}_2}{\\sqrt{P(1 - P)(\\frac{1}{n_1} + \\frac{1}{n_2})}}$$\n",
    "$$P = \\frac{\\hat{p}_1{n_1} + \\hat{p}_2{n_2}}{{n_1} + {n_2}} $$"
   ]
  },
  {
   "cell_type": "code",
   "execution_count": 16,
   "metadata": {},
   "outputs": [],
   "source": [
    "n1 = 34\n",
    "n2 = 16\n",
    "p1 = 10/34\n",
    "p2 = 4/16"
   ]
  },
  {
   "cell_type": "code",
   "execution_count": 17,
   "metadata": {},
   "outputs": [],
   "source": [
    "import numpy as np\n",
    "P = float(p1*n1 + p2*n2) / (n1 + n2)\n",
    "Z = (p1 - p2) / np.sqrt(P * (1 - P) * (1. / n1 + 1. / n2))"
   ]
  },
  {
   "cell_type": "code",
   "execution_count": 18,
   "metadata": {},
   "outputs": [
    {
     "data": {
      "text/plain": [
       "0.37293045872523534"
      ]
     },
     "execution_count": 18,
     "metadata": {},
     "output_type": "execute_result"
    }
   ],
   "source": [
    "from scipy import stats\n",
    "\n",
    "# Alternative 'greater':\n",
    "# H1: p1 > p2  \n",
    "1 - stats.norm.cdf(Z)"
   ]
  },
  {
   "cell_type": "markdown",
   "metadata": {},
   "source": [
    "As a p-value > 0.05, we can not reject H0, there are no significant difference between two groups."
   ]
  },
  {
   "cell_type": "markdown",
   "metadata": {},
   "source": [
    "**3)  Training courses for GMAT**"
   ]
  },
  {
   "cell_type": "markdown",
   "metadata": {},
   "source": [
    "Each year, more than 200,000 people around the world pass the standardized GMAT exam when they enroll in MBA programs. The average result is 525 points, the standard deviation is 100 points.\n",
    "\n",
    "One hundred students have completed special training courses and pass the exam. The average score they received is 541.4. We will test the hypothesis of program inefficiency versus the one-sided alternative that the program works."
   ]
  },
  {
   "cell_type": "code",
   "execution_count": 19,
   "metadata": {},
   "outputs": [],
   "source": [
    "mu = 525.     # mean of population\n",
    "std = 100.    # std of population\n",
    "\n",
    "n = 100       # number of sample\n",
    "X_ = 541.4    # mean of sample"
   ]
  },
  {
   "cell_type": "markdown",
   "metadata": {},
   "source": [
    "*H0: X_ = mu     (if sample is from population)*\n",
    "    \n",
    "*H1: X_ > mu 'greater'    (the sample is not from population, with greater mean)*"
   ]
  },
  {
   "cell_type": "code",
   "execution_count": 20,
   "metadata": {},
   "outputs": [
    {
     "data": {
      "text/plain": [
       "1.6399999999999977"
      ]
     },
     "execution_count": 20,
     "metadata": {},
     "output_type": "execute_result"
    }
   ],
   "source": [
    "SE = std/n**0.5     # standard deviation of the mean in population\n",
    "z = (X_ - mu)/SE     # z-statistics\n",
    "z"
   ]
  },
  {
   "cell_type": "code",
   "execution_count": 21,
   "metadata": {},
   "outputs": [
    {
     "data": {
      "text/plain": [
       "0.05050258347410397"
      ]
     },
     "execution_count": 21,
     "metadata": {},
     "output_type": "execute_result"
    }
   ],
   "source": [
    "1-stats.norm.cdf(z)    # p-value"
   ]
  },
  {
   "cell_type": "markdown",
   "metadata": {},
   "source": [
    "In this example a p-value just a little more than 0.05, however, we still can not reject H0."
   ]
  },
  {
   "cell_type": "markdown",
   "metadata": {},
   "source": [
    "# 2. Nonparametric criteria"
   ]
  },
  {
   "cell_type": "markdown",
   "metadata": {},
   "source": [
    "### 2.1. Wilcoxon sign rank test"
   ]
  },
  {
   "cell_type": "markdown",
   "metadata": {},
   "source": [
    "There is a data on the survival of patients with leukocyte lymphoma:\n",
    "\n",
    "_49, 58,75, 110, 112, 132, 151, 276, 281, 362*_\n",
    "\n",
    "The residual lifetime was measured since the start of observation (in weeks); an asterisk denotes censorship from above - the study lasted 7 years, and the remaining life time of one patient who lived to the end of the observation is unknown.\n",
    "\n",
    "Since only one observation is censored, to test the hypothesis H0: medX = 200, criterion ranks can be used on this data - we can assume that the survival time of the last patient is exactly 362, this will not affect the rank of this observation.\n",
    "\n",
    "By criterion of sign ranks, we will test this hypothesis versus a two-way alternative."
   ]
  },
  {
   "cell_type": "markdown",
   "metadata": {},
   "source": [
    "*H0: medianX = 200*\n",
    "\n",
    "*H1: medianX != 200*"
   ]
  },
  {
   "cell_type": "code",
   "execution_count": 22,
   "metadata": {},
   "outputs": [],
   "source": [
    "import numpy as np\n",
    "from scipy import stats"
   ]
  },
  {
   "cell_type": "code",
   "execution_count": 23,
   "metadata": {
    "scrolled": true
   },
   "outputs": [],
   "source": [
    "survives = np.array([49, 58, 75, 110, 112, 132, 151, 276, 281, 362])"
   ]
  },
  {
   "cell_type": "code",
   "execution_count": 24,
   "metadata": {},
   "outputs": [
    {
     "data": {
      "text/plain": [
       "WilcoxonResult(statistic=17.0, pvalue=0.2845026979112075)"
      ]
     },
     "execution_count": 24,
     "metadata": {},
     "output_type": "execute_result"
    }
   ],
   "source": [
    "mu0 = 200\n",
    "stats.wilcoxon(survives - mu0)"
   ]
  },
  {
   "cell_type": "markdown",
   "metadata": {},
   "source": [
    "As p_value > 0.05, we can not reject H0."
   ]
  },
  {
   "cell_type": "markdown",
   "metadata": {},
   "source": [
    "### 2.2. Mann-Whitney rank test"
   ]
  },
  {
   "cell_type": "markdown",
   "metadata": {},
   "source": [
    "In the study, the effect of logging on forest biodiversity of Borneo collected data on the number of tree species in 12 forests where logging is not conducted:\n",
    "_22, 22, 15, 13, 19, 19, 18, 20, 21, 13, 13, 15,_\n",
    "\n",
    "and 9 forests where logging is:\n",
    "_17, 18, 18, 15, 12, 4, 14, 15, 10._\n",
    "\n",
    "We will use rank criterion to test the hypothesis that the average number of species is equal in two types of forests versus the one-sided alternative of reducing biodiversity in deforestation."
   ]
  },
  {
   "cell_type": "markdown",
   "metadata": {},
   "source": [
    "$H_0\\colon F_{X_1}(x) = F_{X_2}(x)$\n",
    "\n",
    "$H_1\\colon F_{X_1}(x) = F_{X_2}(x + \\Delta)$       "
   ]
  },
  {
   "cell_type": "code",
   "execution_count": 25,
   "metadata": {},
   "outputs": [],
   "source": [
    "forest1 = np.array([22, 22, 15, 13, 19, 19, 18, 20, 21, 13, 13, 15])\n",
    "forest2 = np.array([17, 18, 18, 15, 12, 4, 14, 15, 10])"
   ]
  },
  {
   "cell_type": "code",
   "execution_count": 26,
   "metadata": {
    "scrolled": true
   },
   "outputs": [
    {
     "data": {
      "text/plain": [
       "MannwhitneyuResult(statistic=81.0, pvalue=0.02900499272087373)"
      ]
     },
     "execution_count": 26,
     "metadata": {},
     "output_type": "execute_result"
    }
   ],
   "source": [
    "stats.mannwhitneyu(forest1, forest2, alternative='greater')"
   ]
  },
  {
   "cell_type": "markdown",
   "metadata": {},
   "source": [
    "As p_value < 0.05, we can reject H0 in favor of alternative one-sided hypothesis of reducing biodiversity in deforestation."
   ]
  }
 ],
 "metadata": {
  "kernelspec": {
   "display_name": "Python 3",
   "language": "python",
   "name": "python3"
  },
  "language_info": {
   "codemirror_mode": {
    "name": "ipython",
    "version": 3
   },
   "file_extension": ".py",
   "mimetype": "text/x-python",
   "name": "python",
   "nbconvert_exporter": "python",
   "pygments_lexer": "ipython3",
   "version": "3.7.4"
  }
 },
 "nbformat": 4,
 "nbformat_minor": 2
}
